{
 "cells": [
  {
   "cell_type": "markdown",
   "id": "79d97ffc-9913-4bcd-b754-472a9879c9b9",
   "metadata": {},
   "source": [
    "# LEVEL 3"
   ]
  },
  {
   "cell_type": "code",
   "execution_count": 1,
   "id": "e18ab8a6-3c16-4276-9dd0-1c1c8a567047",
   "metadata": {
    "jp-MarkdownHeadingCollapsed": true
   },
   "outputs": [],
   "source": [
    "import warnings\n",
    "warnings.filterwarnings('ignore')"
   ]
  },
  {
   "cell_type": "code",
   "execution_count": 2,
   "id": "08d805b3-77e0-42c6-acf8-2c47f9c192be",
   "metadata": {},
   "outputs": [
    {
     "data": {
      "text/html": [
       "<div>\n",
       "<style scoped>\n",
       "    .dataframe tbody tr th:only-of-type {\n",
       "        vertical-align: middle;\n",
       "    }\n",
       "\n",
       "    .dataframe tbody tr th {\n",
       "        vertical-align: top;\n",
       "    }\n",
       "\n",
       "    .dataframe thead th {\n",
       "        text-align: right;\n",
       "    }\n",
       "</style>\n",
       "<table border=\"1\" class=\"dataframe\">\n",
       "  <thead>\n",
       "    <tr style=\"text-align: right;\">\n",
       "      <th></th>\n",
       "      <th>Restaurant ID</th>\n",
       "      <th>Restaurant Name</th>\n",
       "      <th>Country Code</th>\n",
       "      <th>City</th>\n",
       "      <th>Address</th>\n",
       "      <th>Locality</th>\n",
       "      <th>Locality Verbose</th>\n",
       "      <th>Longitude</th>\n",
       "      <th>Latitude</th>\n",
       "      <th>Cuisines</th>\n",
       "      <th>...</th>\n",
       "      <th>Currency</th>\n",
       "      <th>Has Table booking</th>\n",
       "      <th>Has Online delivery</th>\n",
       "      <th>Is delivering now</th>\n",
       "      <th>Switch to order menu</th>\n",
       "      <th>Price range</th>\n",
       "      <th>Aggregate rating</th>\n",
       "      <th>Rating color</th>\n",
       "      <th>Rating text</th>\n",
       "      <th>Votes</th>\n",
       "    </tr>\n",
       "  </thead>\n",
       "  <tbody>\n",
       "    <tr>\n",
       "      <th>0</th>\n",
       "      <td>6317637</td>\n",
       "      <td>Le Petit Souffle</td>\n",
       "      <td>162</td>\n",
       "      <td>Makati City</td>\n",
       "      <td>Third Floor, Century City Mall, Kalayaan Avenu...</td>\n",
       "      <td>Century City Mall, Poblacion, Makati City</td>\n",
       "      <td>Century City Mall, Poblacion, Makati City, Mak...</td>\n",
       "      <td>121.027535</td>\n",
       "      <td>14.565443</td>\n",
       "      <td>French, Japanese, Desserts</td>\n",
       "      <td>...</td>\n",
       "      <td>Botswana Pula(P)</td>\n",
       "      <td>Yes</td>\n",
       "      <td>No</td>\n",
       "      <td>No</td>\n",
       "      <td>No</td>\n",
       "      <td>3</td>\n",
       "      <td>4.8</td>\n",
       "      <td>Dark Green</td>\n",
       "      <td>Excellent</td>\n",
       "      <td>314</td>\n",
       "    </tr>\n",
       "    <tr>\n",
       "      <th>1</th>\n",
       "      <td>6304287</td>\n",
       "      <td>Izakaya Kikufuji</td>\n",
       "      <td>162</td>\n",
       "      <td>Makati City</td>\n",
       "      <td>Little Tokyo, 2277 Chino Roces Avenue, Legaspi...</td>\n",
       "      <td>Little Tokyo, Legaspi Village, Makati City</td>\n",
       "      <td>Little Tokyo, Legaspi Village, Makati City, Ma...</td>\n",
       "      <td>121.014101</td>\n",
       "      <td>14.553708</td>\n",
       "      <td>Japanese</td>\n",
       "      <td>...</td>\n",
       "      <td>Botswana Pula(P)</td>\n",
       "      <td>Yes</td>\n",
       "      <td>No</td>\n",
       "      <td>No</td>\n",
       "      <td>No</td>\n",
       "      <td>3</td>\n",
       "      <td>4.5</td>\n",
       "      <td>Dark Green</td>\n",
       "      <td>Excellent</td>\n",
       "      <td>591</td>\n",
       "    </tr>\n",
       "    <tr>\n",
       "      <th>2</th>\n",
       "      <td>6300002</td>\n",
       "      <td>Heat - Edsa Shangri-La</td>\n",
       "      <td>162</td>\n",
       "      <td>Mandaluyong City</td>\n",
       "      <td>Edsa Shangri-La, 1 Garden Way, Ortigas, Mandal...</td>\n",
       "      <td>Edsa Shangri-La, Ortigas, Mandaluyong City</td>\n",
       "      <td>Edsa Shangri-La, Ortigas, Mandaluyong City, Ma...</td>\n",
       "      <td>121.056831</td>\n",
       "      <td>14.581404</td>\n",
       "      <td>Seafood, Asian, Filipino, Indian</td>\n",
       "      <td>...</td>\n",
       "      <td>Botswana Pula(P)</td>\n",
       "      <td>Yes</td>\n",
       "      <td>No</td>\n",
       "      <td>No</td>\n",
       "      <td>No</td>\n",
       "      <td>4</td>\n",
       "      <td>4.4</td>\n",
       "      <td>Green</td>\n",
       "      <td>Very Good</td>\n",
       "      <td>270</td>\n",
       "    </tr>\n",
       "    <tr>\n",
       "      <th>3</th>\n",
       "      <td>6318506</td>\n",
       "      <td>Ooma</td>\n",
       "      <td>162</td>\n",
       "      <td>Mandaluyong City</td>\n",
       "      <td>Third Floor, Mega Fashion Hall, SM Megamall, O...</td>\n",
       "      <td>SM Megamall, Ortigas, Mandaluyong City</td>\n",
       "      <td>SM Megamall, Ortigas, Mandaluyong City, Mandal...</td>\n",
       "      <td>121.056475</td>\n",
       "      <td>14.585318</td>\n",
       "      <td>Japanese, Sushi</td>\n",
       "      <td>...</td>\n",
       "      <td>Botswana Pula(P)</td>\n",
       "      <td>No</td>\n",
       "      <td>No</td>\n",
       "      <td>No</td>\n",
       "      <td>No</td>\n",
       "      <td>4</td>\n",
       "      <td>4.9</td>\n",
       "      <td>Dark Green</td>\n",
       "      <td>Excellent</td>\n",
       "      <td>365</td>\n",
       "    </tr>\n",
       "    <tr>\n",
       "      <th>4</th>\n",
       "      <td>6314302</td>\n",
       "      <td>Sambo Kojin</td>\n",
       "      <td>162</td>\n",
       "      <td>Mandaluyong City</td>\n",
       "      <td>Third Floor, Mega Atrium, SM Megamall, Ortigas...</td>\n",
       "      <td>SM Megamall, Ortigas, Mandaluyong City</td>\n",
       "      <td>SM Megamall, Ortigas, Mandaluyong City, Mandal...</td>\n",
       "      <td>121.057508</td>\n",
       "      <td>14.584450</td>\n",
       "      <td>Japanese, Korean</td>\n",
       "      <td>...</td>\n",
       "      <td>Botswana Pula(P)</td>\n",
       "      <td>Yes</td>\n",
       "      <td>No</td>\n",
       "      <td>No</td>\n",
       "      <td>No</td>\n",
       "      <td>4</td>\n",
       "      <td>4.8</td>\n",
       "      <td>Dark Green</td>\n",
       "      <td>Excellent</td>\n",
       "      <td>229</td>\n",
       "    </tr>\n",
       "  </tbody>\n",
       "</table>\n",
       "<p>5 rows × 21 columns</p>\n",
       "</div>"
      ],
      "text/plain": [
       "   Restaurant ID         Restaurant Name  Country Code              City  \\\n",
       "0        6317637        Le Petit Souffle           162       Makati City   \n",
       "1        6304287        Izakaya Kikufuji           162       Makati City   \n",
       "2        6300002  Heat - Edsa Shangri-La           162  Mandaluyong City   \n",
       "3        6318506                    Ooma           162  Mandaluyong City   \n",
       "4        6314302             Sambo Kojin           162  Mandaluyong City   \n",
       "\n",
       "                                             Address  \\\n",
       "0  Third Floor, Century City Mall, Kalayaan Avenu...   \n",
       "1  Little Tokyo, 2277 Chino Roces Avenue, Legaspi...   \n",
       "2  Edsa Shangri-La, 1 Garden Way, Ortigas, Mandal...   \n",
       "3  Third Floor, Mega Fashion Hall, SM Megamall, O...   \n",
       "4  Third Floor, Mega Atrium, SM Megamall, Ortigas...   \n",
       "\n",
       "                                     Locality  \\\n",
       "0   Century City Mall, Poblacion, Makati City   \n",
       "1  Little Tokyo, Legaspi Village, Makati City   \n",
       "2  Edsa Shangri-La, Ortigas, Mandaluyong City   \n",
       "3      SM Megamall, Ortigas, Mandaluyong City   \n",
       "4      SM Megamall, Ortigas, Mandaluyong City   \n",
       "\n",
       "                                    Locality Verbose   Longitude   Latitude  \\\n",
       "0  Century City Mall, Poblacion, Makati City, Mak...  121.027535  14.565443   \n",
       "1  Little Tokyo, Legaspi Village, Makati City, Ma...  121.014101  14.553708   \n",
       "2  Edsa Shangri-La, Ortigas, Mandaluyong City, Ma...  121.056831  14.581404   \n",
       "3  SM Megamall, Ortigas, Mandaluyong City, Mandal...  121.056475  14.585318   \n",
       "4  SM Megamall, Ortigas, Mandaluyong City, Mandal...  121.057508  14.584450   \n",
       "\n",
       "                           Cuisines  ...          Currency Has Table booking  \\\n",
       "0        French, Japanese, Desserts  ...  Botswana Pula(P)               Yes   \n",
       "1                          Japanese  ...  Botswana Pula(P)               Yes   \n",
       "2  Seafood, Asian, Filipino, Indian  ...  Botswana Pula(P)               Yes   \n",
       "3                   Japanese, Sushi  ...  Botswana Pula(P)                No   \n",
       "4                  Japanese, Korean  ...  Botswana Pula(P)               Yes   \n",
       "\n",
       "  Has Online delivery Is delivering now Switch to order menu Price range  \\\n",
       "0                  No                No                   No           3   \n",
       "1                  No                No                   No           3   \n",
       "2                  No                No                   No           4   \n",
       "3                  No                No                   No           4   \n",
       "4                  No                No                   No           4   \n",
       "\n",
       "   Aggregate rating  Rating color Rating text Votes  \n",
       "0               4.8    Dark Green   Excellent   314  \n",
       "1               4.5    Dark Green   Excellent   591  \n",
       "2               4.4         Green   Very Good   270  \n",
       "3               4.9    Dark Green   Excellent   365  \n",
       "4               4.8    Dark Green   Excellent   229  \n",
       "\n",
       "[5 rows x 21 columns]"
      ]
     },
     "execution_count": 2,
     "metadata": {},
     "output_type": "execute_result"
    }
   ],
   "source": [
    "import pandas as pd\n",
    "data=pd.read_csv(\"C:/Users/Princia/Downloads/Restaurant Dataset.csv\")\n",
    "data.head()"
   ]
  },
  {
   "cell_type": "markdown",
   "id": "5a4f79aa-e144-43f0-88e3-0d281effb151",
   "metadata": {},
   "source": [
    "# Task 1"
   ]
  },
  {
   "cell_type": "code",
   "execution_count": 3,
   "id": "714d874e-0041-4316-9b61-a1327fd59db2",
   "metadata": {},
   "outputs": [],
   "source": [
    "#Analyze the text reviews to identify the most common positive and negative keywords."
   ]
  },
  {
   "cell_type": "code",
   "execution_count": 4,
   "id": "6f63c2ea-2a5c-46cb-a2ae-6d2a53e60ec7",
   "metadata": {},
   "outputs": [
    {
     "data": {
      "text/plain": [
       "Rating text\n",
       "Average      3737\n",
       "Not rated    2148\n",
       "Good         2100\n",
       "Very Good    1079\n",
       "Excellent     301\n",
       "Poor          186\n",
       "Name: count, dtype: int64"
      ]
     },
     "execution_count": 4,
     "metadata": {},
     "output_type": "execute_result"
    }
   ],
   "source": [
    "data['Rating text'].value_counts()"
   ]
  },
  {
   "cell_type": "code",
   "execution_count": 5,
   "id": "b12902cf-ac66-43c5-9cb3-f886c166887d",
   "metadata": {},
   "outputs": [],
   "source": [
    "mapping_rule={'Average':'Negative','Good':'Positive','Very Good':'Positive','Excellent':'Positive','Not rated':'Negative','Poor':'Negative'}"
   ]
  },
  {
   "cell_type": "code",
   "execution_count": 6,
   "id": "1d86892f-fe10-418a-955d-2cda5deb739d",
   "metadata": {},
   "outputs": [
    {
     "data": {
      "text/plain": [
       "Encoded rating  Rating text\n",
       "Negative        Average        3737\n",
       "                Not rated      2148\n",
       "                Poor            186\n",
       "Positive        Good           2100\n",
       "                Very Good      1079\n",
       "                Excellent       301\n",
       "Name: count, dtype: int64"
      ]
     },
     "execution_count": 6,
     "metadata": {},
     "output_type": "execute_result"
    }
   ],
   "source": [
    "data['Encoded rating']=data['Rating text'].map(mapping_rule)\n",
    "data.groupby('Encoded rating')['Rating text'].value_counts()"
   ]
  },
  {
   "cell_type": "code",
   "execution_count": 7,
   "id": "e80bed89-4d1b-4fc9-b253-ceab304818db",
   "metadata": {},
   "outputs": [
    {
     "data": {
      "image/png": "[encoded data removed]",
      "text/plain": [
       "<Figure size 1000x200 with 2 Axes>"
      ]
     },
     "metadata": {},
     "output_type": "display_data"
    }
   ],
   "source": [
    "positive=data[data['Encoded rating']=='Positive']\n",
    "negative=data[data['Encoded rating']=='Negative']\n",
    "\n",
    "import matplotlib.pyplot as plt\n",
    "plt.figure(figsize=(10,2))\n",
    "plt.subplots_adjust(wspace=0.5) \n",
    "plt.subplot(1,2,1)\n",
    "\n",
    "plt.barh(positive['Rating text'].value_counts().index,positive['Rating text'].value_counts().values,align='center')\n",
    "plt.title(\"Plot of Positive reviews\")\n",
    "plt.xlabel(\"Count\")\n",
    "plt.ylabel(\"Reviews\")\n",
    "\n",
    "plt.subplot(1,2,2)\n",
    "plt.barh(negative['Rating text'].value_counts().index,negative['Rating text'].value_counts().values,align='center')\n",
    "plt.title(\"Plot of Negative reviews\")\n",
    "plt.xlabel(\"Count\")\n",
    "plt.ylabel(\"Reviews\")\n",
    "plt.show()"
   ]
  },
  {
   "cell_type": "code",
   "execution_count": 8,
   "id": "cf5c8de7-666c-45e4-8281-14e9029bf982",
   "metadata": {},
   "outputs": [
    {
     "name": "stdout",
     "output_type": "stream",
     "text": [
      "The most common positive review is Good\n",
      "The most common negative review is Average\n"
     ]
    }
   ],
   "source": [
    "print(\"The most common positive review is\",positive['Rating text'].value_counts().index[0])\n",
    "print(\"The most common negative review is\",negative['Rating text'].value_counts().index[0])"
   ]
  },
  {
   "cell_type": "code",
   "execution_count": 9,
   "id": "a00c84c8-4c4c-495f-af7d-6c0b2955a2fb",
   "metadata": {},
   "outputs": [],
   "source": [
    "review_length=[len(str(x)) for x in data['Rating text']]"
   ]
  },
  {
   "cell_type": "code",
   "execution_count": 10,
   "id": "f2b66529-af64-41fb-9d78-9c5ed10b6af4",
   "metadata": {},
   "outputs": [],
   "source": [
    "#Calculate the average length of reviews and explore if there is a relationship between review length and rating.\n",
    "data['Review length']=review_length"
   ]
  },
  {
   "cell_type": "code",
   "execution_count": 11,
   "id": "7784df5c-5d9c-4352-b891-34d5c09a4f86",
   "metadata": {},
   "outputs": [
    {
     "data": {
      "text/plain": [
       "Review length\n",
       "7    3737\n",
       "9    3528\n",
       "4    2286\n",
       "Name: count, dtype: int64"
      ]
     },
     "execution_count": 11,
     "metadata": {},
     "output_type": "execute_result"
    }
   ],
   "source": [
    "data['Review length'].value_counts()"
   ]
  },
  {
   "cell_type": "code",
   "execution_count": 12,
   "id": "3dbc47d0-39e7-4450-8234-a6689d1a1f5d",
   "metadata": {},
   "outputs": [
    {
     "data": {
      "text/plain": [
       "Review length\n",
       "4    3.570691\n",
       "7    3.051619\n",
       "9    4.275362\n",
       "Name: Aggregate rating, dtype: float64"
      ]
     },
     "execution_count": 12,
     "metadata": {},
     "output_type": "execute_result"
    }
   ],
   "source": [
    "data1=data[data['Aggregate rating']!=0.0]\n",
    "data1.groupby('Review length')['Aggregate rating'].mean()"
   ]
  },
  {
   "cell_type": "code",
   "execution_count": 13,
   "id": "4dd0871d-0e4f-4826-b474-57a873905359",
   "metadata": {},
   "outputs": [
    {
     "name": "stdout",
     "output_type": "stream",
     "text": [
      "Correlation between Review length and Aggregate rating is 0.19\n"
     ]
    }
   ],
   "source": [
    "corr=data1['Review length'].corr(data1['Aggregate rating'])\n",
    "print(\"Correlation between Review length and Aggregate rating is %.2f\"%(corr))"
   ]
  },
  {
   "cell_type": "code",
   "execution_count": 14,
   "id": "d01d74e8-67dc-4dde-94e9-57af8336d9ab",
   "metadata": {},
   "outputs": [
    {
     "data": {
      "image/png": "[encoded data removed]",
      "text/plain": [
       "<Figure size 800x400 with 1 Axes>"
      ]
     },
     "metadata": {},
     "output_type": "display_data"
    }
   ],
   "source": [
    "import matplotlib.pyplot as plt\n",
    "plt.figure(figsize=(8,4))\n",
    "plt.scatter(data1['Review length'],data1['Aggregate rating'],alpha=0.5)\n",
    "plt.ylabel('Rating')\n",
    "plt.xlabel('Review Length')\n",
    "plt.title('Correlation between Rating and Review Length')\n",
    "plt.show()"
   ]
  },
  {
   "cell_type": "markdown",
   "id": "c28199cf-2a7f-49c8-8f58-bbdf3b5ba65d",
   "metadata": {},
   "source": [
    "# Task 2"
   ]
  },
  {
   "cell_type": "code",
   "execution_count": 15,
   "id": "e6d9d37b-4592-4e07-841e-640e4c768624",
   "metadata": {},
   "outputs": [],
   "source": [
    "#Identify the restaurants with the highest and lowest number of votes"
   ]
  },
  {
   "cell_type": "code",
   "execution_count": 16,
   "id": "7d9484f9-6573-4063-9573-8bc2f36dad85",
   "metadata": {},
   "outputs": [
    {
     "name": "stdout",
     "output_type": "stream",
     "text": [
      "Highest number of votes is  10934\n",
      "Lowest number of votes is  1\n"
     ]
    }
   ],
   "source": [
    "data2=data[data['Votes']!=0.0]\n",
    "print(\"Highest number of votes is \",data2['Votes'].max())\n",
    "print(\"Lowest number of votes is \",data2['Votes'].min())"
   ]
  },
  {
   "cell_type": "code",
   "execution_count": 17,
   "id": "a4b46e3d-e316-4de8-ada1-a0b7823c2feb",
   "metadata": {},
   "outputs": [
    {
     "data": {
      "text/plain": [
       "728     10934\n",
       "735      9667\n",
       "3994     7931\n",
       "2412     7574\n",
       "739      6907\n",
       "        ...  \n",
       "4811        1\n",
       "4804        1\n",
       "9032        1\n",
       "4802        1\n",
       "3969        1\n",
       "Name: Votes, Length: 8457, dtype: int64"
      ]
     },
     "execution_count": 17,
     "metadata": {},
     "output_type": "execute_result"
    }
   ],
   "source": [
    "votes=data2['Votes'].sort_values(ascending=False)\n",
    "votes"
   ]
  },
  {
   "cell_type": "code",
   "execution_count": 18,
   "id": "c6d9d444-4a13-43c4-be51-c1a989ca373d",
   "metadata": {},
   "outputs": [
    {
     "name": "stdout",
     "output_type": "stream",
     "text": [
      "Restaurants with highest votes are\n"
     ]
    },
    {
     "data": {
      "text/html": [
       "<div>\n",
       "<style scoped>\n",
       "    .dataframe tbody tr th:only-of-type {\n",
       "        vertical-align: middle;\n",
       "    }\n",
       "\n",
       "    .dataframe tbody tr th {\n",
       "        vertical-align: top;\n",
       "    }\n",
       "\n",
       "    .dataframe thead th {\n",
       "        text-align: right;\n",
       "    }\n",
       "</style>\n",
       "<table border=\"1\" class=\"dataframe\">\n",
       "  <thead>\n",
       "    <tr style=\"text-align: right;\">\n",
       "      <th></th>\n",
       "      <th>Restaurant ID</th>\n",
       "      <th>Restaurant Name</th>\n",
       "      <th>Country Code</th>\n",
       "      <th>City</th>\n",
       "      <th>Address</th>\n",
       "      <th>Locality</th>\n",
       "      <th>Locality Verbose</th>\n",
       "      <th>Longitude</th>\n",
       "      <th>Latitude</th>\n",
       "      <th>Cuisines</th>\n",
       "      <th>...</th>\n",
       "      <th>Has Online delivery</th>\n",
       "      <th>Is delivering now</th>\n",
       "      <th>Switch to order menu</th>\n",
       "      <th>Price range</th>\n",
       "      <th>Aggregate rating</th>\n",
       "      <th>Rating color</th>\n",
       "      <th>Rating text</th>\n",
       "      <th>Votes</th>\n",
       "      <th>Encoded rating</th>\n",
       "      <th>Review length</th>\n",
       "    </tr>\n",
       "  </thead>\n",
       "  <tbody>\n",
       "    <tr>\n",
       "      <th>728</th>\n",
       "      <td>51705</td>\n",
       "      <td>Toit</td>\n",
       "      <td>1</td>\n",
       "      <td>Bangalore</td>\n",
       "      <td>298, Namma Metro Pillar 62, 100 Feet Road, Ind...</td>\n",
       "      <td>Indiranagar</td>\n",
       "      <td>Indiranagar, Bangalore</td>\n",
       "      <td>77.640709</td>\n",
       "      <td>12.979166</td>\n",
       "      <td>Italian, American, Pizza</td>\n",
       "      <td>...</td>\n",
       "      <td>No</td>\n",
       "      <td>No</td>\n",
       "      <td>No</td>\n",
       "      <td>4</td>\n",
       "      <td>4.8</td>\n",
       "      <td>Dark Green</td>\n",
       "      <td>Excellent</td>\n",
       "      <td>10934</td>\n",
       "      <td>Positive</td>\n",
       "      <td>9</td>\n",
       "    </tr>\n",
       "  </tbody>\n",
       "</table>\n",
       "<p>1 rows × 23 columns</p>\n",
       "</div>"
      ],
      "text/plain": [
       "     Restaurant ID Restaurant Name  Country Code       City  \\\n",
       "728          51705            Toit             1  Bangalore   \n",
       "\n",
       "                                               Address     Locality  \\\n",
       "728  298, Namma Metro Pillar 62, 100 Feet Road, Ind...  Indiranagar   \n",
       "\n",
       "           Locality Verbose  Longitude   Latitude                  Cuisines  \\\n",
       "728  Indiranagar, Bangalore  77.640709  12.979166  Italian, American, Pizza   \n",
       "\n",
       "     ...  Has Online delivery Is delivering now Switch to order menu  \\\n",
       "728  ...                   No                No                   No   \n",
       "\n",
       "    Price range Aggregate rating Rating color  Rating text  Votes  \\\n",
       "728           4              4.8   Dark Green    Excellent  10934   \n",
       "\n",
       "    Encoded rating Review length  \n",
       "728       Positive             9  \n",
       "\n",
       "[1 rows x 23 columns]"
      ]
     },
     "execution_count": 18,
     "metadata": {},
     "output_type": "execute_result"
    }
   ],
   "source": [
    "vote_max=data[data['Votes']==data['Votes'].max()]\n",
    "print(\"Restaurants with highest votes are\")\n",
    "vote_max"
   ]
  },
  {
   "cell_type": "code",
   "execution_count": 19,
   "id": "813237b3-3943-448f-984b-b1ef5d8567d9",
   "metadata": {},
   "outputs": [
    {
     "name": "stdout",
     "output_type": "stream",
     "text": [
      "Number of restaurants with lowest votes: 1094\n",
      "Restaurants with lowest votes are\n"
     ]
    },
    {
     "data": {
      "text/html": [
       "<div>\n",
       "<style scoped>\n",
       "    .dataframe tbody tr th:only-of-type {\n",
       "        vertical-align: middle;\n",
       "    }\n",
       "\n",
       "    .dataframe tbody tr th {\n",
       "        vertical-align: top;\n",
       "    }\n",
       "\n",
       "    .dataframe thead th {\n",
       "        text-align: right;\n",
       "    }\n",
       "</style>\n",
       "<table border=\"1\" class=\"dataframe\">\n",
       "  <thead>\n",
       "    <tr style=\"text-align: right;\">\n",
       "      <th></th>\n",
       "      <th>Restaurant ID</th>\n",
       "      <th>Restaurant Name</th>\n",
       "      <th>Country Code</th>\n",
       "      <th>City</th>\n",
       "      <th>Address</th>\n",
       "      <th>Locality</th>\n",
       "      <th>Locality Verbose</th>\n",
       "      <th>Longitude</th>\n",
       "      <th>Latitude</th>\n",
       "      <th>Cuisines</th>\n",
       "      <th>...</th>\n",
       "      <th>Has Online delivery</th>\n",
       "      <th>Is delivering now</th>\n",
       "      <th>Switch to order menu</th>\n",
       "      <th>Price range</th>\n",
       "      <th>Aggregate rating</th>\n",
       "      <th>Rating color</th>\n",
       "      <th>Rating text</th>\n",
       "      <th>Votes</th>\n",
       "      <th>Encoded rating</th>\n",
       "      <th>Review length</th>\n",
       "    </tr>\n",
       "  </thead>\n",
       "  <tbody>\n",
       "    <tr>\n",
       "      <th>69</th>\n",
       "      <td>6710645</td>\n",
       "      <td>Cantinho da Gula</td>\n",
       "      <td>30</td>\n",
       "      <td>S��o Paulo</td>\n",
       "      <td>Rua Pedroso Alvarenga, 522, Itaim Bibi, S��o P...</td>\n",
       "      <td>Itaim Bibi</td>\n",
       "      <td>Itaim Bibi, S��o Paulo</td>\n",
       "      <td>-46.675667</td>\n",
       "      <td>-23.581000</td>\n",
       "      <td>Brazilian</td>\n",
       "      <td>...</td>\n",
       "      <td>No</td>\n",
       "      <td>No</td>\n",
       "      <td>No</td>\n",
       "      <td>2</td>\n",
       "      <td>0.0</td>\n",
       "      <td>White</td>\n",
       "      <td>Not rated</td>\n",
       "      <td>0</td>\n",
       "      <td>Negative</td>\n",
       "      <td>9</td>\n",
       "    </tr>\n",
       "    <tr>\n",
       "      <th>874</th>\n",
       "      <td>18433852</td>\n",
       "      <td>The Chaiwalas</td>\n",
       "      <td>1</td>\n",
       "      <td>Faridabad</td>\n",
       "      <td>Sector 21 A, Asian Hospital, Badhkal Chowk, Ba...</td>\n",
       "      <td>Badkal Lake</td>\n",
       "      <td>Badkal Lake, Faridabad</td>\n",
       "      <td>77.300088</td>\n",
       "      <td>28.426284</td>\n",
       "      <td>Cafe</td>\n",
       "      <td>...</td>\n",
       "      <td>No</td>\n",
       "      <td>No</td>\n",
       "      <td>No</td>\n",
       "      <td>1</td>\n",
       "      <td>0.0</td>\n",
       "      <td>White</td>\n",
       "      <td>Not rated</td>\n",
       "      <td>0</td>\n",
       "      <td>Negative</td>\n",
       "      <td>9</td>\n",
       "    </tr>\n",
       "    <tr>\n",
       "      <th>879</th>\n",
       "      <td>18465871</td>\n",
       "      <td>Fusion Food Corner</td>\n",
       "      <td>1</td>\n",
       "      <td>Faridabad</td>\n",
       "      <td>158/7, Opposite DDA Flat, Pul Pehlad Pur, Char...</td>\n",
       "      <td>Charmwood Village</td>\n",
       "      <td>Charmwood Village, Faridabad</td>\n",
       "      <td>0.000000</td>\n",
       "      <td>0.000000</td>\n",
       "      <td>North Indian, Chinese</td>\n",
       "      <td>...</td>\n",
       "      <td>No</td>\n",
       "      <td>No</td>\n",
       "      <td>No</td>\n",
       "      <td>1</td>\n",
       "      <td>0.0</td>\n",
       "      <td>White</td>\n",
       "      <td>Not rated</td>\n",
       "      <td>0</td>\n",
       "      <td>Negative</td>\n",
       "      <td>9</td>\n",
       "    </tr>\n",
       "    <tr>\n",
       "      <th>880</th>\n",
       "      <td>18472646</td>\n",
       "      <td>Punjabi Rasoi</td>\n",
       "      <td>1</td>\n",
       "      <td>Faridabad</td>\n",
       "      <td>1, Deepak Complex, Eros Charmwood Village, Far...</td>\n",
       "      <td>Charmwood Village</td>\n",
       "      <td>Charmwood Village, Faridabad</td>\n",
       "      <td>77.292431</td>\n",
       "      <td>28.492325</td>\n",
       "      <td>North Indian</td>\n",
       "      <td>...</td>\n",
       "      <td>No</td>\n",
       "      <td>No</td>\n",
       "      <td>No</td>\n",
       "      <td>1</td>\n",
       "      <td>0.0</td>\n",
       "      <td>White</td>\n",
       "      <td>Not rated</td>\n",
       "      <td>0</td>\n",
       "      <td>Negative</td>\n",
       "      <td>9</td>\n",
       "    </tr>\n",
       "    <tr>\n",
       "      <th>887</th>\n",
       "      <td>18471268</td>\n",
       "      <td>Baskin Robbin</td>\n",
       "      <td>1</td>\n",
       "      <td>Faridabad</td>\n",
       "      <td>Ground Floor, Crown Interiorz Mall, Sector 35,...</td>\n",
       "      <td>Crown Interiorz Mall, Sector 35, Faridabad</td>\n",
       "      <td>Crown Interiorz Mall, Sector 35, Faridabad, Fa...</td>\n",
       "      <td>77.307448</td>\n",
       "      <td>28.469594</td>\n",
       "      <td>Desserts</td>\n",
       "      <td>...</td>\n",
       "      <td>No</td>\n",
       "      <td>No</td>\n",
       "      <td>No</td>\n",
       "      <td>1</td>\n",
       "      <td>0.0</td>\n",
       "      <td>White</td>\n",
       "      <td>Not rated</td>\n",
       "      <td>0</td>\n",
       "      <td>Negative</td>\n",
       "      <td>9</td>\n",
       "    </tr>\n",
       "  </tbody>\n",
       "</table>\n",
       "<p>5 rows × 23 columns</p>\n",
       "</div>"
      ],
      "text/plain": [
       "     Restaurant ID     Restaurant Name  Country Code        City  \\\n",
       "69         6710645    Cantinho da Gula            30  S��o Paulo   \n",
       "874       18433852       The Chaiwalas             1   Faridabad   \n",
       "879       18465871  Fusion Food Corner             1   Faridabad   \n",
       "880       18472646       Punjabi Rasoi             1   Faridabad   \n",
       "887       18471268       Baskin Robbin             1   Faridabad   \n",
       "\n",
       "                                               Address  \\\n",
       "69   Rua Pedroso Alvarenga, 522, Itaim Bibi, S��o P...   \n",
       "874  Sector 21 A, Asian Hospital, Badhkal Chowk, Ba...   \n",
       "879  158/7, Opposite DDA Flat, Pul Pehlad Pur, Char...   \n",
       "880  1, Deepak Complex, Eros Charmwood Village, Far...   \n",
       "887  Ground Floor, Crown Interiorz Mall, Sector 35,...   \n",
       "\n",
       "                                       Locality  \\\n",
       "69                                   Itaim Bibi   \n",
       "874                                 Badkal Lake   \n",
       "879                           Charmwood Village   \n",
       "880                           Charmwood Village   \n",
       "887  Crown Interiorz Mall, Sector 35, Faridabad   \n",
       "\n",
       "                                      Locality Verbose  Longitude   Latitude  \\\n",
       "69                              Itaim Bibi, S��o Paulo -46.675667 -23.581000   \n",
       "874                             Badkal Lake, Faridabad  77.300088  28.426284   \n",
       "879                       Charmwood Village, Faridabad   0.000000   0.000000   \n",
       "880                       Charmwood Village, Faridabad  77.292431  28.492325   \n",
       "887  Crown Interiorz Mall, Sector 35, Faridabad, Fa...  77.307448  28.469594   \n",
       "\n",
       "                  Cuisines  ...  Has Online delivery Is delivering now  \\\n",
       "69               Brazilian  ...                   No                No   \n",
       "874                   Cafe  ...                   No                No   \n",
       "879  North Indian, Chinese  ...                   No                No   \n",
       "880           North Indian  ...                   No                No   \n",
       "887               Desserts  ...                   No                No   \n",
       "\n",
       "    Switch to order menu Price range Aggregate rating Rating color  \\\n",
       "69                    No           2              0.0        White   \n",
       "874                   No           1              0.0        White   \n",
       "879                   No           1              0.0        White   \n",
       "880                   No           1              0.0        White   \n",
       "887                   No           1              0.0        White   \n",
       "\n",
       "     Rating text  Votes Encoded rating Review length  \n",
       "69     Not rated      0       Negative             9  \n",
       "874    Not rated      0       Negative             9  \n",
       "879    Not rated      0       Negative             9  \n",
       "880    Not rated      0       Negative             9  \n",
       "887    Not rated      0       Negative             9  \n",
       "\n",
       "[5 rows x 23 columns]"
      ]
     },
     "execution_count": 19,
     "metadata": {},
     "output_type": "execute_result"
    }
   ],
   "source": [
    "vote_min=data[data['Votes']==data['Votes'].min()]\n",
    "print(\"Number of restaurants with lowest votes:\",len(vote_min))\n",
    "print(\"Restaurants with lowest votes are\")\n",
    "vote_min.head()"
   ]
  },
  {
   "cell_type": "code",
   "execution_count": 20,
   "id": "83be4062-8c63-4b45-a724-d3428ec39a0a",
   "metadata": {},
   "outputs": [],
   "source": [
    "#Analyze if there is a correlation between the number of votes and the rating of a restaurant."
   ]
  },
  {
   "cell_type": "code",
   "execution_count": 21,
   "id": "bb0a9166-bc06-4ace-8cd2-5cc7119b1491",
   "metadata": {},
   "outputs": [
    {
     "name": "stdout",
     "output_type": "stream",
     "text": [
      "Correlation between the number of votes and Aggregate rating is 0.41\n"
     ]
    }
   ],
   "source": [
    "corr=data2['Votes'].corr(data1['Aggregate rating'])\n",
    "print(\"Correlation between the number of votes and Aggregate rating is %.2f\"%(corr))"
   ]
  },
  {
   "cell_type": "code",
   "execution_count": 22,
   "id": "f216b54a-4fca-4e3e-bb59-873267aca3e6",
   "metadata": {},
   "outputs": [
    {
     "data": {
      "image/png": "[encoded data removed]",
      "text/plain": [
       "<Figure size 800x400 with 1 Axes>"
      ]
     },
     "metadata": {},
     "output_type": "display_data"
    }
   ],
   "source": [
    "import matplotlib.pyplot as plt\n",
    "plt.figure(figsize=(8,4))\n",
    "plt.scatter(data2['Aggregate rating'],data2['Votes'],alpha=0.5)\n",
    "plt.xlabel('Rating')\n",
    "plt.ylabel('Votes')\n",
    "plt.title('Correlation between number of votes and aggregate rating:')\n",
    "plt.show()"
   ]
  },
  {
   "cell_type": "markdown",
   "id": "45d03ecc-196d-42a5-abb6-d2ac538a57ad",
   "metadata": {},
   "source": [
    "# Task 3"
   ]
  },
  {
   "cell_type": "code",
   "execution_count": 23,
   "id": "a4067e00-9602-4782-b8e2-f5eff0f944d9",
   "metadata": {},
   "outputs": [],
   "source": [
    "#Analyze if there is a relationship between the price range and the availability of online delivery and table booking."
   ]
  },
  {
   "cell_type": "code",
   "execution_count": 24,
   "id": "39cf43cc-611c-49cb-ad76-24fc8c11ffe9",
   "metadata": {},
   "outputs": [],
   "source": [
    "df=data[['Price range','Has Online delivery','Has Table booking']]\n"
   ]
  },
  {
   "cell_type": "code",
   "execution_count": 25,
   "id": "0006d36e-d2dd-4a8f-8582-ee17cf1b0a54",
   "metadata": {},
   "outputs": [
    {
     "data": {
      "text/html": [
       "<div>\n",
       "<style scoped>\n",
       "    .dataframe tbody tr th:only-of-type {\n",
       "        vertical-align: middle;\n",
       "    }\n",
       "\n",
       "    .dataframe tbody tr th {\n",
       "        vertical-align: top;\n",
       "    }\n",
       "\n",
       "    .dataframe thead th {\n",
       "        text-align: right;\n",
       "    }\n",
       "</style>\n",
       "<table border=\"1\" class=\"dataframe\">\n",
       "  <thead>\n",
       "    <tr style=\"text-align: right;\">\n",
       "      <th></th>\n",
       "      <th>Price range</th>\n",
       "      <th>Has Online delivery</th>\n",
       "      <th>Has Table booking</th>\n",
       "    </tr>\n",
       "  </thead>\n",
       "  <tbody>\n",
       "    <tr>\n",
       "      <th>0</th>\n",
       "      <td>3</td>\n",
       "      <td>0</td>\n",
       "      <td>1</td>\n",
       "    </tr>\n",
       "    <tr>\n",
       "      <th>1</th>\n",
       "      <td>3</td>\n",
       "      <td>0</td>\n",
       "      <td>1</td>\n",
       "    </tr>\n",
       "    <tr>\n",
       "      <th>2</th>\n",
       "      <td>4</td>\n",
       "      <td>0</td>\n",
       "      <td>1</td>\n",
       "    </tr>\n",
       "    <tr>\n",
       "      <th>3</th>\n",
       "      <td>4</td>\n",
       "      <td>0</td>\n",
       "      <td>0</td>\n",
       "    </tr>\n",
       "    <tr>\n",
       "      <th>4</th>\n",
       "      <td>4</td>\n",
       "      <td>0</td>\n",
       "      <td>1</td>\n",
       "    </tr>\n",
       "    <tr>\n",
       "      <th>...</th>\n",
       "      <td>...</td>\n",
       "      <td>...</td>\n",
       "      <td>...</td>\n",
       "    </tr>\n",
       "    <tr>\n",
       "      <th>9546</th>\n",
       "      <td>3</td>\n",
       "      <td>0</td>\n",
       "      <td>0</td>\n",
       "    </tr>\n",
       "    <tr>\n",
       "      <th>9547</th>\n",
       "      <td>3</td>\n",
       "      <td>0</td>\n",
       "      <td>0</td>\n",
       "    </tr>\n",
       "    <tr>\n",
       "      <th>9548</th>\n",
       "      <td>4</td>\n",
       "      <td>0</td>\n",
       "      <td>0</td>\n",
       "    </tr>\n",
       "    <tr>\n",
       "      <th>9549</th>\n",
       "      <td>4</td>\n",
       "      <td>0</td>\n",
       "      <td>0</td>\n",
       "    </tr>\n",
       "    <tr>\n",
       "      <th>9550</th>\n",
       "      <td>2</td>\n",
       "      <td>0</td>\n",
       "      <td>0</td>\n",
       "    </tr>\n",
       "  </tbody>\n",
       "</table>\n",
       "<p>9551 rows × 3 columns</p>\n",
       "</div>"
      ],
      "text/plain": [
       "      Price range  Has Online delivery  Has Table booking\n",
       "0               3                    0                  1\n",
       "1               3                    0                  1\n",
       "2               4                    0                  1\n",
       "3               4                    0                  0\n",
       "4               4                    0                  1\n",
       "...           ...                  ...                ...\n",
       "9546            3                    0                  0\n",
       "9547            3                    0                  0\n",
       "9548            4                    0                  0\n",
       "9549            4                    0                  0\n",
       "9550            2                    0                  0\n",
       "\n",
       "[9551 rows x 3 columns]"
      ]
     },
     "execution_count": 25,
     "metadata": {},
     "output_type": "execute_result"
    }
   ],
   "source": [
    "df['Has Online delivery']=df['Has Online delivery'].replace(['Yes','No'],[1,0])\n",
    "df['Has Table booking']=df['Has Table booking'].replace(['Yes','No'],[1,0])\n",
    "df\n"
   ]
  },
  {
   "cell_type": "code",
   "execution_count": 26,
   "id": "6d452b57-455a-4ca2-b6f3-32842750f0e5",
   "metadata": {},
   "outputs": [
    {
     "data": {
      "text/html": [
       "<div>\n",
       "<style scoped>\n",
       "    .dataframe tbody tr th:only-of-type {\n",
       "        vertical-align: middle;\n",
       "    }\n",
       "\n",
       "    .dataframe tbody tr th {\n",
       "        vertical-align: top;\n",
       "    }\n",
       "\n",
       "    .dataframe thead th {\n",
       "        text-align: right;\n",
       "    }\n",
       "</style>\n",
       "<table border=\"1\" class=\"dataframe\">\n",
       "  <thead>\n",
       "    <tr style=\"text-align: right;\">\n",
       "      <th></th>\n",
       "      <th>Price range</th>\n",
       "      <th>Has Online delivery</th>\n",
       "      <th>Has Table booking</th>\n",
       "    </tr>\n",
       "  </thead>\n",
       "  <tbody>\n",
       "    <tr>\n",
       "      <th>Price range</th>\n",
       "      <td>1.000000</td>\n",
       "      <td>0.077918</td>\n",
       "      <td>0.501925</td>\n",
       "    </tr>\n",
       "    <tr>\n",
       "      <th>Has Online delivery</th>\n",
       "      <td>0.077918</td>\n",
       "      <td>1.000000</td>\n",
       "      <td>0.101224</td>\n",
       "    </tr>\n",
       "    <tr>\n",
       "      <th>Has Table booking</th>\n",
       "      <td>0.501925</td>\n",
       "      <td>0.101224</td>\n",
       "      <td>1.000000</td>\n",
       "    </tr>\n",
       "  </tbody>\n",
       "</table>\n",
       "</div>"
      ],
      "text/plain": [
       "                     Price range  Has Online delivery  Has Table booking\n",
       "Price range             1.000000             0.077918           0.501925\n",
       "Has Online delivery     0.077918             1.000000           0.101224\n",
       "Has Table booking       0.501925             0.101224           1.000000"
      ]
     },
     "execution_count": 26,
     "metadata": {},
     "output_type": "execute_result"
    }
   ],
   "source": [
    "corr=df.corr()\n",
    "corr"
   ]
  },
  {
   "cell_type": "code",
   "execution_count": 27,
   "id": "f9ff0b3c-b737-49b4-bc78-5d737892d180",
   "metadata": {},
   "outputs": [
    {
     "data": {
      "image/png": "[encoded data removed]",
      "text/plain": [
       "<Figure size 600x400 with 2 Axes>"
      ]
     },
     "metadata": {},
     "output_type": "display_data"
    }
   ],
   "source": [
    "import seaborn as sns\n",
    "import matplotlib.pyplot as plt\n",
    "plt.figure(figsize=(6,4))\n",
    "sns.heatmap(corr,annot=True,cbar=True,cmap='YlGnBu',linewidths=0.5)\n",
    "plt.show()"
   ]
  },
  {
   "cell_type": "code",
   "execution_count": 28,
   "id": "30625fc9-c42b-4b35-a644-8a85651aed0c",
   "metadata": {},
   "outputs": [
    {
     "data": {
      "text/plain": [
       "Has Online delivery    0.077918\n",
       "Has Table booking      0.501925\n",
       "dtype: float64"
      ]
     },
     "execution_count": 28,
     "metadata": {},
     "output_type": "execute_result"
    }
   ],
   "source": [
    "corr=df[['Has Online delivery','Has Table booking']].corrwith(df['Price range'])\n",
    "corr"
   ]
  },
  {
   "cell_type": "markdown",
   "id": "8a357f18-9896-497b-a26d-f6fc581145ea",
   "metadata": {},
   "source": [
    "This means restaurants with availability of online delivery has a weak correlation with Price range.\n",
    "And restaurants with availabilty of table booking has a stronger correlation with Price range.64"
   ]
  },
  {
   "cell_type": "code",
   "execution_count": null,
   "id": "ba5f680c-e3f2-4da1-9d14-1c2cfb20e782",
   "metadata": {},
   "outputs": [],
   "source": []
  },
  {
   "cell_type": "code",
   "execution_count": 29,
   "id": "3a772bf2-b603-4b7d-a555-6cc34edb482c",
   "metadata": {},
   "outputs": [],
   "source": [
    "#Determine if higher-priced restaurants are more likely to offer these services."
   ]
  },
  {
   "cell_type": "code",
   "execution_count": 30,
   "id": "f50c4efc-32b7-4d65-81d4-23d75b5d1956",
   "metadata": {},
   "outputs": [
    {
     "data": {
      "text/plain": [
       "Price range\n",
       "4     586\n",
       "3    1408\n",
       "2    3113\n",
       "1    4444\n",
       "Name: count, dtype: int64"
      ]
     },
     "execution_count": 30,
     "metadata": {},
     "output_type": "execute_result"
    }
   ],
   "source": [
    "data['Price range'].value_counts().sort_values()"
   ]
  },
  {
   "cell_type": "code",
   "execution_count": 31,
   "id": "ca25ab1c-ef34-4155-b83a-276f9a218220",
   "metadata": {},
   "outputs": [],
   "source": [
    "df=data[['Price range','Has Online delivery','Has Table booking']]\n",
    "max_range=df['Price range'].max()"
   ]
  },
  {
   "cell_type": "code",
   "execution_count": 32,
   "id": "29fb0b65-4c68-485a-8dd8-93012d7fd976",
   "metadata": {},
   "outputs": [
    {
     "data": {
      "text/plain": [
       "Price range  Has Online delivery  Has Table booking\n",
       "4            No                   No                   299\n",
       "                                  Yes                  234\n",
       "             Yes                  Yes                   40\n",
       "                                  No                    13\n",
       "Name: count, dtype: int64"
      ]
     },
     "execution_count": 32,
     "metadata": {},
     "output_type": "execute_result"
    }
   ],
   "source": [
    "df[df['Price range']==max_range].value_counts()"
   ]
  },
  {
   "cell_type": "code",
   "execution_count": 33,
   "id": "7da5dac5-1e45-4456-adaf-20663e400df9",
   "metadata": {},
   "outputs": [
    {
     "data": {
      "text/plain": [
       "Price range  Has Online delivery  Has Table booking\n",
       "4            Yes                  Yes                  40\n",
       "Name: count, dtype: int64"
      ]
     },
     "execution_count": 33,
     "metadata": {},
     "output_type": "execute_result"
    }
   ],
   "source": [
    "df[(df['Price range']==max_range) & (df['Has Online delivery']=='Yes') & (df['Has Table booking']=='Yes')].value_counts()"
   ]
  },
  {
   "cell_type": "code",
   "execution_count": 34,
   "id": "b1000cfc-1c5f-4b0c-8ec9-f3101e72b28a",
   "metadata": {},
   "outputs": [
    {
     "data": {
      "image/png": "[encoded data removed]",
      "text/plain": [
       "<Figure size 800x400 with 1 Axes>"
      ]
     },
     "metadata": {},
     "output_type": "display_data"
    }
   ],
   "source": [
    "value_counts =df[ df['Price range']==4].value_counts()\n",
    "palette = {'No': 'purple', 'Yes': 'grey'}\n",
    "plt.figure(figsize=(8, 4))\n",
    "sns.barplot(x='Has Online delivery', y=df['Price range'], hue='Has Table booking', data=df,palette=palette)\n",
    "plt.title('Count of Restaurants by Online Delivery and Table Booking (Price Range = 4)')\n",
    "plt.xlabel('Has Online Delivery')\n",
    "plt.ylabel('Price range')\n",
    "plt.show()"
   ]
  },
  {
   "cell_type": "markdown",
   "id": "174ef99d-b873-44ca-8f66-da3b044791e8",
   "metadata": {},
   "source": [
    "1. Restaurants that do not offer online delivery and also do not offer table booking have very low price range.\n",
    "2. Restaurants that do not offer online delivery and offer table booking has very high price range."
   ]
  }
 ],
 "metadata": {
  "kernelspec": {
   "display_name": "Python 3 (ipykernel)",
   "language": "python",
   "name": "python3"
  },
  "language_info": {
   "codemirror_mode": {
    "name": "ipython",
    "version": 3
   },
   "file_extension": ".py",
   "mimetype": "text/x-python",
   "name": "python",
   "nbconvert_exporter": "python",
   "pygments_lexer": "ipython3",
   "version": "3.11.7"
  }
 },
 "nbformat": 4,
 "nbformat_minor": 5
}
