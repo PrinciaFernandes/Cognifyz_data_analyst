{
 "cells": [
  {
   "cell_type": "markdown",
   "id": "dec9da3a-3995-4d4f-ab8e-912a8a5c9172",
   "metadata": {},
   "source": [
    "# LEVEL 1"
   ]
  },
  {
   "cell_type": "code",
   "execution_count": 1,
   "id": "4e3f793e-c29f-4042-9854-5b96a0165db9",
   "metadata": {},
   "outputs": [
    {
     "data": {
      "text/html": [
       "<div>\n",
       "<style scoped>\n",
       "    .dataframe tbody tr th:only-of-type {\n",
       "        vertical-align: middle;\n",
       "    }\n",
       "\n",
       "    .dataframe tbody tr th {\n",
       "        vertical-align: top;\n",
       "    }\n",
       "\n",
       "    .dataframe thead th {\n",
       "        text-align: right;\n",
       "    }\n",
       "</style>\n",
       "<table border=\"1\" class=\"dataframe\">\n",
       "  <thead>\n",
       "    <tr style=\"text-align: right;\">\n",
       "      <th></th>\n",
       "      <th>Restaurant ID</th>\n",
       "      <th>Restaurant Name</th>\n",
       "      <th>Country Code</th>\n",
       "      <th>City</th>\n",
       "      <th>Address</th>\n",
       "      <th>Locality</th>\n",
       "      <th>Locality Verbose</th>\n",
       "      <th>Longitude</th>\n",
       "      <th>Latitude</th>\n",
       "      <th>Cuisines</th>\n",
       "      <th>...</th>\n",
       "      <th>Currency</th>\n",
       "      <th>Has Table booking</th>\n",
       "      <th>Has Online delivery</th>\n",
       "      <th>Is delivering now</th>\n",
       "      <th>Switch to order menu</th>\n",
       "      <th>Price range</th>\n",
       "      <th>Aggregate rating</th>\n",
       "      <th>Rating color</th>\n",
       "      <th>Rating text</th>\n",
       "      <th>Votes</th>\n",
       "    </tr>\n",
       "  </thead>\n",
       "  <tbody>\n",
       "    <tr>\n",
       "      <th>0</th>\n",
       "      <td>6317637</td>\n",
       "      <td>Le Petit Souffle</td>\n",
       "      <td>162</td>\n",
       "      <td>Makati City</td>\n",
       "      <td>Third Floor, Century City Mall, Kalayaan Avenu...</td>\n",
       "      <td>Century City Mall, Poblacion, Makati City</td>\n",
       "      <td>Century City Mall, Poblacion, Makati City, Mak...</td>\n",
       "      <td>121.027535</td>\n",
       "      <td>14.565443</td>\n",
       "      <td>French, Japanese, Desserts</td>\n",
       "      <td>...</td>\n",
       "      <td>Botswana Pula(P)</td>\n",
       "      <td>Yes</td>\n",
       "      <td>No</td>\n",
       "      <td>No</td>\n",
       "      <td>No</td>\n",
       "      <td>3</td>\n",
       "      <td>4.8</td>\n",
       "      <td>Dark Green</td>\n",
       "      <td>Excellent</td>\n",
       "      <td>314</td>\n",
       "    </tr>\n",
       "    <tr>\n",
       "      <th>1</th>\n",
       "      <td>6304287</td>\n",
       "      <td>Izakaya Kikufuji</td>\n",
       "      <td>162</td>\n",
       "      <td>Makati City</td>\n",
       "      <td>Little Tokyo, 2277 Chino Roces Avenue, Legaspi...</td>\n",
       "      <td>Little Tokyo, Legaspi Village, Makati City</td>\n",
       "      <td>Little Tokyo, Legaspi Village, Makati City, Ma...</td>\n",
       "      <td>121.014101</td>\n",
       "      <td>14.553708</td>\n",
       "      <td>Japanese</td>\n",
       "      <td>...</td>\n",
       "      <td>Botswana Pula(P)</td>\n",
       "      <td>Yes</td>\n",
       "      <td>No</td>\n",
       "      <td>No</td>\n",
       "      <td>No</td>\n",
       "      <td>3</td>\n",
       "      <td>4.5</td>\n",
       "      <td>Dark Green</td>\n",
       "      <td>Excellent</td>\n",
       "      <td>591</td>\n",
       "    </tr>\n",
       "    <tr>\n",
       "      <th>2</th>\n",
       "      <td>6300002</td>\n",
       "      <td>Heat - Edsa Shangri-La</td>\n",
       "      <td>162</td>\n",
       "      <td>Mandaluyong City</td>\n",
       "      <td>Edsa Shangri-La, 1 Garden Way, Ortigas, Mandal...</td>\n",
       "      <td>Edsa Shangri-La, Ortigas, Mandaluyong City</td>\n",
       "      <td>Edsa Shangri-La, Ortigas, Mandaluyong City, Ma...</td>\n",
       "      <td>121.056831</td>\n",
       "      <td>14.581404</td>\n",
       "      <td>Seafood, Asian, Filipino, Indian</td>\n",
       "      <td>...</td>\n",
       "      <td>Botswana Pula(P)</td>\n",
       "      <td>Yes</td>\n",
       "      <td>No</td>\n",
       "      <td>No</td>\n",
       "      <td>No</td>\n",
       "      <td>4</td>\n",
       "      <td>4.4</td>\n",
       "      <td>Green</td>\n",
       "      <td>Very Good</td>\n",
       "      <td>270</td>\n",
       "    </tr>\n",
       "    <tr>\n",
       "      <th>3</th>\n",
       "      <td>6318506</td>\n",
       "      <td>Ooma</td>\n",
       "      <td>162</td>\n",
       "      <td>Mandaluyong City</td>\n",
       "      <td>Third Floor, Mega Fashion Hall, SM Megamall, O...</td>\n",
       "      <td>SM Megamall, Ortigas, Mandaluyong City</td>\n",
       "      <td>SM Megamall, Ortigas, Mandaluyong City, Mandal...</td>\n",
       "      <td>121.056475</td>\n",
       "      <td>14.585318</td>\n",
       "      <td>Japanese, Sushi</td>\n",
       "      <td>...</td>\n",
       "      <td>Botswana Pula(P)</td>\n",
       "      <td>No</td>\n",
       "      <td>No</td>\n",
       "      <td>No</td>\n",
       "      <td>No</td>\n",
       "      <td>4</td>\n",
       "      <td>4.9</td>\n",
       "      <td>Dark Green</td>\n",
       "      <td>Excellent</td>\n",
       "      <td>365</td>\n",
       "    </tr>\n",
       "    <tr>\n",
       "      <th>4</th>\n",
       "      <td>6314302</td>\n",
       "      <td>Sambo Kojin</td>\n",
       "      <td>162</td>\n",
       "      <td>Mandaluyong City</td>\n",
       "      <td>Third Floor, Mega Atrium, SM Megamall, Ortigas...</td>\n",
       "      <td>SM Megamall, Ortigas, Mandaluyong City</td>\n",
       "      <td>SM Megamall, Ortigas, Mandaluyong City, Mandal...</td>\n",
       "      <td>121.057508</td>\n",
       "      <td>14.584450</td>\n",
       "      <td>Japanese, Korean</td>\n",
       "      <td>...</td>\n",
       "      <td>Botswana Pula(P)</td>\n",
       "      <td>Yes</td>\n",
       "      <td>No</td>\n",
       "      <td>No</td>\n",
       "      <td>No</td>\n",
       "      <td>4</td>\n",
       "      <td>4.8</td>\n",
       "      <td>Dark Green</td>\n",
       "      <td>Excellent</td>\n",
       "      <td>229</td>\n",
       "    </tr>\n",
       "  </tbody>\n",
       "</table>\n",
       "<p>5 rows × 21 columns</p>\n",
       "</div>"
      ],
      "text/plain": [
       "   Restaurant ID         Restaurant Name  Country Code              City  \\\n",
       "0        6317637        Le Petit Souffle           162       Makati City   \n",
       "1        6304287        Izakaya Kikufuji           162       Makati City   \n",
       "2        6300002  Heat - Edsa Shangri-La           162  Mandaluyong City   \n",
       "3        6318506                    Ooma           162  Mandaluyong City   \n",
       "4        6314302             Sambo Kojin           162  Mandaluyong City   \n",
       "\n",
       "                                             Address  \\\n",
       "0  Third Floor, Century City Mall, Kalayaan Avenu...   \n",
       "1  Little Tokyo, 2277 Chino Roces Avenue, Legaspi...   \n",
       "2  Edsa Shangri-La, 1 Garden Way, Ortigas, Mandal...   \n",
       "3  Third Floor, Mega Fashion Hall, SM Megamall, O...   \n",
       "4  Third Floor, Mega Atrium, SM Megamall, Ortigas...   \n",
       "\n",
       "                                     Locality  \\\n",
       "0   Century City Mall, Poblacion, Makati City   \n",
       "1  Little Tokyo, Legaspi Village, Makati City   \n",
       "2  Edsa Shangri-La, Ortigas, Mandaluyong City   \n",
       "3      SM Megamall, Ortigas, Mandaluyong City   \n",
       "4      SM Megamall, Ortigas, Mandaluyong City   \n",
       "\n",
       "                                    Locality Verbose   Longitude   Latitude  \\\n",
       "0  Century City Mall, Poblacion, Makati City, Mak...  121.027535  14.565443   \n",
       "1  Little Tokyo, Legaspi Village, Makati City, Ma...  121.014101  14.553708   \n",
       "2  Edsa Shangri-La, Ortigas, Mandaluyong City, Ma...  121.056831  14.581404   \n",
       "3  SM Megamall, Ortigas, Mandaluyong City, Mandal...  121.056475  14.585318   \n",
       "4  SM Megamall, Ortigas, Mandaluyong City, Mandal...  121.057508  14.584450   \n",
       "\n",
       "                           Cuisines  ...          Currency Has Table booking  \\\n",
       "0        French, Japanese, Desserts  ...  Botswana Pula(P)               Yes   \n",
       "1                          Japanese  ...  Botswana Pula(P)               Yes   \n",
       "2  Seafood, Asian, Filipino, Indian  ...  Botswana Pula(P)               Yes   \n",
       "3                   Japanese, Sushi  ...  Botswana Pula(P)                No   \n",
       "4                  Japanese, Korean  ...  Botswana Pula(P)               Yes   \n",
       "\n",
       "  Has Online delivery Is delivering now Switch to order menu Price range  \\\n",
       "0                  No                No                   No           3   \n",
       "1                  No                No                   No           3   \n",
       "2                  No                No                   No           4   \n",
       "3                  No                No                   No           4   \n",
       "4                  No                No                   No           4   \n",
       "\n",
       "   Aggregate rating  Rating color Rating text Votes  \n",
       "0               4.8    Dark Green   Excellent   314  \n",
       "1               4.5    Dark Green   Excellent   591  \n",
       "2               4.4         Green   Very Good   270  \n",
       "3               4.9    Dark Green   Excellent   365  \n",
       "4               4.8    Dark Green   Excellent   229  \n",
       "\n",
       "[5 rows x 21 columns]"
      ]
     },
     "execution_count": 1,
     "metadata": {},
     "output_type": "execute_result"
    }
   ],
   "source": [
    "import pandas as pd\n",
    "data=pd.read_csv(\"C:/Users/Princia/Downloads/Restaurant Dataset.csv\")\n",
    "data.head()"
   ]
  },
  {
   "cell_type": "code",
   "execution_count": 2,
   "id": "b818b097-153c-493c-af60-318d64fbf992",
   "metadata": {},
   "outputs": [
    {
     "name": "stdout",
     "output_type": "stream",
     "text": [
      "<class 'pandas.core.frame.DataFrame'>\n",
      "RangeIndex: 9551 entries, 0 to 9550\n",
      "Data columns (total 21 columns):\n",
      " #   Column                Non-Null Count  Dtype  \n",
      "---  ------                --------------  -----  \n",
      " 0   Restaurant ID         9551 non-null   int64  \n",
      " 1   Restaurant Name       9551 non-null   object \n",
      " 2   Country Code          9551 non-null   int64  \n",
      " 3   City                  9551 non-null   object \n",
      " 4   Address               9551 non-null   object \n",
      " 5   Locality              9551 non-null   object \n",
      " 6   Locality Verbose      9551 non-null   object \n",
      " 7   Longitude             9551 non-null   float64\n",
      " 8   Latitude              9551 non-null   float64\n",
      " 9   Cuisines              9542 non-null   object \n",
      " 10  Average Cost for two  9551 non-null   int64  \n",
      " 11  Currency              9551 non-null   object \n",
      " 12  Has Table booking     9551 non-null   object \n",
      " 13  Has Online delivery   9551 non-null   object \n",
      " 14  Is delivering now     9551 non-null   object \n",
      " 15  Switch to order menu  9551 non-null   object \n",
      " 16  Price range           9551 non-null   int64  \n",
      " 17  Aggregate rating      9551 non-null   float64\n",
      " 18  Rating color          9551 non-null   object \n",
      " 19  Rating text           9551 non-null   object \n",
      " 20  Votes                 9551 non-null   int64  \n",
      "dtypes: float64(3), int64(5), object(13)\n",
      "memory usage: 1.5+ MB\n"
     ]
    }
   ],
   "source": [
    "data.info()"
   ]
  },
  {
   "cell_type": "code",
   "execution_count": 3,
   "id": "90437172-5cc5-415e-8967-6a0e6e33b2f3",
   "metadata": {},
   "outputs": [
    {
     "name": "stdout",
     "output_type": "stream",
     "text": [
      "No. of rows in our dataset : 9551\n",
      "No. of columns in our dataset : 21\n"
     ]
    }
   ],
   "source": [
    "n_rows=data.shape[0]\n",
    "n_cols=data.shape[1]\n",
    "print(\"No. of rows in our dataset :\",n_rows)\n",
    "print(\"No. of columns in our dataset :\",n_cols)"
   ]
  },
  {
   "cell_type": "code",
   "execution_count": 4,
   "id": "c6a0dcdb-4318-4fdf-a995-0a2801cbd76b",
   "metadata": {},
   "outputs": [
    {
     "data": {
      "text/plain": [
       "Restaurant ID           0\n",
       "Restaurant Name         0\n",
       "Country Code            0\n",
       "City                    0\n",
       "Address                 0\n",
       "Locality                0\n",
       "Locality Verbose        0\n",
       "Longitude               0\n",
       "Latitude                0\n",
       "Cuisines                9\n",
       "Average Cost for two    0\n",
       "Currency                0\n",
       "Has Table booking       0\n",
       "Has Online delivery     0\n",
       "Is delivering now       0\n",
       "Switch to order menu    0\n",
       "Price range             0\n",
       "Aggregate rating        0\n",
       "Rating color            0\n",
       "Rating text             0\n",
       "Votes                   0\n",
       "dtype: int64"
      ]
     },
     "execution_count": 4,
     "metadata": {},
     "output_type": "execute_result"
    }
   ],
   "source": [
    "data.isnull().sum()"
   ]
  },
  {
   "cell_type": "markdown",
   "id": "a1af6648-0e65-4912-b418-9633496b89d9",
   "metadata": {},
   "source": [
    "# Task 1"
   ]
  },
  {
   "cell_type": "code",
   "execution_count": 5,
   "id": "4eb32704-cd99-483e-92c4-99b2a682cddf",
   "metadata": {},
   "outputs": [],
   "source": [
    "#Determine the top three most common cuisines in the dataset."
   ]
  },
  {
   "cell_type": "code",
   "execution_count": 6,
   "id": "2372d8b7-4b23-4c96-b0e7-781789d30899",
   "metadata": {},
   "outputs": [
    {
     "name": "stdout",
     "output_type": "stream",
     "text": [
      "The top three most common cuisines in the dataset are\n"
     ]
    },
    {
     "data": {
      "text/plain": [
       "Cuisines\n",
       "North Indian             936\n",
       "North Indian, Chinese    511\n",
       "Chinese                  354\n",
       "Name: count, dtype: int64"
      ]
     },
     "execution_count": 6,
     "metadata": {},
     "output_type": "execute_result"
    }
   ],
   "source": [
    "print(\"The top three most common cuisines in the dataset are\")\n",
    "top_cuisines=data['Cuisines'].value_counts().head(3)\n",
    "top_cuisines"
   ]
  },
  {
   "cell_type": "code",
   "execution_count": 7,
   "id": "e12ce496-87c5-4fb0-a2a9-8ed4e735ed39",
   "metadata": {},
   "outputs": [
    {
     "name": "stdout",
     "output_type": "stream",
     "text": [
      "Restaurants that provide top cuisines are\n"
     ]
    },
    {
     "data": {
      "text/plain": [
       "5                           Din Tai Fung\n",
       "93          House of China Restaurant II\n",
       "172                   Ting's Red Lantern\n",
       "199         Chef Lee's Peking Restaurant\n",
       "241                           China Cafe\n",
       "                      ...               \n",
       "9245            Chrystal Bowl Restaurant\n",
       "9247                         Ming Garden\n",
       "9308    Eden Noodles Cafe �__·�_��_��_��\n",
       "9424           Mainland China Restaurant\n",
       "9497                 Chinese Dragon Cafe\n",
       "Name: Restaurant Name, Length: 1801, dtype: object"
      ]
     },
     "execution_count": 7,
     "metadata": {},
     "output_type": "execute_result"
    }
   ],
   "source": [
    "index=top_cuisines.index\n",
    "print(\"Restaurants that provide top cuisines are\")\n",
    "data['Restaurant Name'].loc[data['Cuisines'].isin(index)]"
   ]
  },
  {
   "cell_type": "code",
   "execution_count": 8,
   "id": "ea62fa2d-d3db-4123-b7b1-fd23f8291712",
   "metadata": {},
   "outputs": [],
   "source": [
    "#Calculate the percentage of restaurants that serve each of the top cuisines."
   ]
  },
  {
   "cell_type": "code",
   "execution_count": 9,
   "id": "d65a592d-e6eb-41e5-9642-5805fd27b8e9",
   "metadata": {},
   "outputs": [
    {
     "name": "stdout",
     "output_type": "stream",
     "text": [
      "Percentage of restaurants that serve North Indian is 9.8\n",
      "Percentage of restaurants that serve North Indian, Chinese is 5.35\n",
      "Percentage of restaurants that serve Chinese is 3.71\n"
     ]
    }
   ],
   "source": [
    "import warnings\n",
    "warnings.filterwarnings('ignore')\n",
    "cuisines_percentage=round((top_cuisines/len(data))*100,2)\n",
    "for x in range(len(cuisines_percentage)):\n",
    "    print(f\"Percentage of restaurants that serve {cuisines_percentage.index[x]} is {cuisines_percentage[x]}\")"
   ]
  },
  {
   "cell_type": "markdown",
   "id": "e104ee95-40e0-4a72-b25e-74e856e9bf62",
   "metadata": {},
   "source": [
    "# Task 2"
   ]
  },
  {
   "cell_type": "code",
   "execution_count": 10,
   "id": "70d038fa-f55a-4c53-85b3-31ec7f96b3e2",
   "metadata": {},
   "outputs": [],
   "source": [
    "#Identify the city with the highest number of restaurants in the dataset"
   ]
  },
  {
   "cell_type": "code",
   "execution_count": 11,
   "id": "6c8a44d3-fa90-4569-be3f-414ab7760dcf",
   "metadata": {},
   "outputs": [
    {
     "name": "stdout",
     "output_type": "stream",
     "text": [
      "City with the highest number of restaurants in the dataset is \n",
      "New Delhi with  5473 restaurants\n"
     ]
    }
   ],
   "source": [
    "print(\"City with the highest number of restaurants in the dataset is \")\n",
    "print(data['City'].mode().iloc[0],end=' ')\n",
    "print(\"with \",data['City'].value_counts().values[0],\"restaurants\")"
   ]
  },
  {
   "cell_type": "code",
   "execution_count": 12,
   "id": "fb5487ea-66b1-4ded-b155-e85f962c386e",
   "metadata": {},
   "outputs": [
    {
     "data": {
      "text/html": [
       "<div>\n",
       "<style scoped>\n",
       "    .dataframe tbody tr th:only-of-type {\n",
       "        vertical-align: middle;\n",
       "    }\n",
       "\n",
       "    .dataframe tbody tr th {\n",
       "        vertical-align: top;\n",
       "    }\n",
       "\n",
       "    .dataframe thead th {\n",
       "        text-align: right;\n",
       "    }\n",
       "</style>\n",
       "<table border=\"1\" class=\"dataframe\">\n",
       "  <thead>\n",
       "    <tr style=\"text-align: right;\">\n",
       "      <th></th>\n",
       "      <th>City</th>\n",
       "      <th>Aggregate rating</th>\n",
       "    </tr>\n",
       "  </thead>\n",
       "  <tbody>\n",
       "    <tr>\n",
       "      <th>0</th>\n",
       "      <td>Makati City</td>\n",
       "      <td>4.8</td>\n",
       "    </tr>\n",
       "    <tr>\n",
       "      <th>1</th>\n",
       "      <td>Makati City</td>\n",
       "      <td>4.5</td>\n",
       "    </tr>\n",
       "    <tr>\n",
       "      <th>2</th>\n",
       "      <td>Mandaluyong City</td>\n",
       "      <td>4.4</td>\n",
       "    </tr>\n",
       "    <tr>\n",
       "      <th>3</th>\n",
       "      <td>Mandaluyong City</td>\n",
       "      <td>4.9</td>\n",
       "    </tr>\n",
       "    <tr>\n",
       "      <th>4</th>\n",
       "      <td>Mandaluyong City</td>\n",
       "      <td>4.8</td>\n",
       "    </tr>\n",
       "    <tr>\n",
       "      <th>...</th>\n",
       "      <td>...</td>\n",
       "      <td>...</td>\n",
       "    </tr>\n",
       "    <tr>\n",
       "      <th>9546</th>\n",
       "      <td>��stanbul</td>\n",
       "      <td>4.1</td>\n",
       "    </tr>\n",
       "    <tr>\n",
       "      <th>9547</th>\n",
       "      <td>��stanbul</td>\n",
       "      <td>4.2</td>\n",
       "    </tr>\n",
       "    <tr>\n",
       "      <th>9548</th>\n",
       "      <td>��stanbul</td>\n",
       "      <td>3.7</td>\n",
       "    </tr>\n",
       "    <tr>\n",
       "      <th>9549</th>\n",
       "      <td>��stanbul</td>\n",
       "      <td>4.0</td>\n",
       "    </tr>\n",
       "    <tr>\n",
       "      <th>9550</th>\n",
       "      <td>��stanbul</td>\n",
       "      <td>4.0</td>\n",
       "    </tr>\n",
       "  </tbody>\n",
       "</table>\n",
       "<p>9551 rows × 2 columns</p>\n",
       "</div>"
      ],
      "text/plain": [
       "                  City  Aggregate rating\n",
       "0          Makati City               4.8\n",
       "1          Makati City               4.5\n",
       "2     Mandaluyong City               4.4\n",
       "3     Mandaluyong City               4.9\n",
       "4     Mandaluyong City               4.8\n",
       "...                ...               ...\n",
       "9546         ��stanbul               4.1\n",
       "9547         ��stanbul               4.2\n",
       "9548         ��stanbul               3.7\n",
       "9549         ��stanbul               4.0\n",
       "9550         ��stanbul               4.0\n",
       "\n",
       "[9551 rows x 2 columns]"
      ]
     },
     "execution_count": 12,
     "metadata": {},
     "output_type": "execute_result"
    }
   ],
   "source": [
    "data[['City','Aggregate rating']]"
   ]
  },
  {
   "cell_type": "code",
   "execution_count": 13,
   "id": "635a1ef4-c3f4-4fef-b056-c3c6cb88ed2c",
   "metadata": {},
   "outputs": [],
   "source": [
    "#Calculate the average rating for restaurants in each city."
   ]
  },
  {
   "cell_type": "code",
   "execution_count": 14,
   "id": "e52f43b4-219c-445d-bb4a-00749f63d499",
   "metadata": {},
   "outputs": [
    {
     "name": "stdout",
     "output_type": "stream",
     "text": [
      "The average rating for restaurants in each city is\n"
     ]
    },
    {
     "data": {
      "text/plain": [
       "City\n",
       "Abu Dhabi          4.300000\n",
       "Agra               3.965000\n",
       "Ahmedabad          4.161905\n",
       "Albany             3.555000\n",
       "Allahabad          3.395000\n",
       "                     ...   \n",
       "Weirton            3.900000\n",
       "Wellington City    4.250000\n",
       "Winchester Bay     3.200000\n",
       "Yorkton            3.300000\n",
       "��stanbul          4.292857\n",
       "Name: Aggregate rating, Length: 141, dtype: float64"
      ]
     },
     "execution_count": 14,
     "metadata": {},
     "output_type": "execute_result"
    }
   ],
   "source": [
    "print(\"The average rating for restaurants in each city is\")\n",
    "rating=data.groupby('City')['Aggregate rating'].mean()\n",
    "rating"
   ]
  },
  {
   "cell_type": "code",
   "execution_count": 15,
   "id": "2c2f1392-8025-4077-8618-9163de0868e9",
   "metadata": {},
   "outputs": [],
   "source": [
    "#Determine the city with the highest average rating"
   ]
  },
  {
   "cell_type": "code",
   "execution_count": 16,
   "id": "0a2b03a9-ec74-4302-bacb-a50b6578f2a4",
   "metadata": {},
   "outputs": [
    {
     "name": "stdout",
     "output_type": "stream",
     "text": [
      "City with the highest average rating is Inner City with rating 4.9\n"
     ]
    }
   ],
   "source": [
    "high_rating=rating.nlargest(1)\n",
    "print(\"City with the highest average rating is\",high_rating.index[0],\"with rating\",high_rating.values[0])"
   ]
  },
  {
   "cell_type": "markdown",
   "id": "4e44ab53-4d23-4bc5-a38f-b458a68d6ee9",
   "metadata": {},
   "source": [
    "# Task 3"
   ]
  },
  {
   "cell_type": "code",
   "execution_count": 17,
   "id": "170c8511-18e1-4159-b87b-1bc44f852026",
   "metadata": {},
   "outputs": [],
   "source": [
    "#Create a histogram or bar chart to visualize the distribution of price ranges among the restaurants"
   ]
  },
  {
   "cell_type": "code",
   "execution_count": 18,
   "id": "66203ed0-50fb-447b-b873-1200d961254e",
   "metadata": {},
   "outputs": [
    {
     "data": {
      "image/png": "[encoded data removed]",
      "text/plain": [
       "<Figure size 600x400 with 1 Axes>"
      ]
     },
     "metadata": {},
     "output_type": "display_data"
    }
   ],
   "source": [
    "import matplotlib.pyplot as plt\n",
    "plt.figure(figsize=(6,4))\n",
    "plt.hist(data['Price range'],bins=[1,2,3,4,5],rwidth=2,edgecolor='black')\n",
    "plt.title(\"The distribution of price ranges\")\n",
    "plt.xlabel(\"Price Range\")\n",
    "plt.ylabel(\"Count\")\n",
    "plt.show()\n"
   ]
  },
  {
   "cell_type": "code",
   "execution_count": 19,
   "id": "2669ffe0-4aea-40a8-b139-9cac7c35b9fe",
   "metadata": {},
   "outputs": [],
   "source": [
    "#Calculate the percentage of restaurants in each price range category."
   ]
  },
  {
   "cell_type": "code",
   "execution_count": 20,
   "id": "92df2c29-e991-40e2-8a03-c74ef19c0e5d",
   "metadata": {},
   "outputs": [
    {
     "name": "stdout",
     "output_type": "stream",
     "text": [
      "Price range\n",
      "1    46.529159\n",
      "2    32.593446\n",
      "3    14.741912\n",
      "4     6.135483\n",
      "Name: count, dtype: float64\n"
     ]
    }
   ],
   "source": [
    "price_percentage=((data['Price range'].value_counts())/len(data))*100\n",
    "print(price_percentage)"
   ]
  },
  {
   "cell_type": "code",
   "execution_count": 21,
   "id": "e9d48343-a6b3-49cd-aac6-283308bae786",
   "metadata": {},
   "outputs": [
    {
     "name": "stdout",
     "output_type": "stream",
     "text": [
      "The percentage of restaurants in price range 1 is 46.529\n",
      "The percentage of restaurants in price range 2 is 32.593\n",
      "The percentage of restaurants in price range 3 is 14.742\n",
      "The percentage of restaurants in price range 4 is 6.135\n"
     ]
    }
   ],
   "source": [
    "for i in range(1,len(price_percentage)+1):\n",
    "    print(f\"The percentage of restaurants in price range {i} is\",round(price_percentage[i],3))"
   ]
  },
  {
   "cell_type": "markdown",
   "id": "d1d4a091-ef53-4f3e-97c6-2003c6f79fe7",
   "metadata": {},
   "source": [
    "# Task 4"
   ]
  },
  {
   "cell_type": "code",
   "execution_count": 22,
   "id": "cc3a5786-9d66-4b35-8970-d6a27d31fb40",
   "metadata": {},
   "outputs": [],
   "source": [
    "#Determine the percentage of restaurants that offer online delivery."
   ]
  },
  {
   "cell_type": "code",
   "execution_count": 23,
   "id": "308f1f58-6b2b-4d72-b3ba-d0d47079ab96",
   "metadata": {},
   "outputs": [
    {
     "data": {
      "text/html": [
       "<div>\n",
       "<style scoped>\n",
       "    .dataframe tbody tr th:only-of-type {\n",
       "        vertical-align: middle;\n",
       "    }\n",
       "\n",
       "    .dataframe tbody tr th {\n",
       "        vertical-align: top;\n",
       "    }\n",
       "\n",
       "    .dataframe thead th {\n",
       "        text-align: right;\n",
       "    }\n",
       "</style>\n",
       "<table border=\"1\" class=\"dataframe\">\n",
       "  <thead>\n",
       "    <tr style=\"text-align: right;\">\n",
       "      <th></th>\n",
       "      <th>Restaurant ID</th>\n",
       "      <th>Restaurant Name</th>\n",
       "      <th>Country Code</th>\n",
       "      <th>City</th>\n",
       "      <th>Address</th>\n",
       "      <th>Locality</th>\n",
       "      <th>Locality Verbose</th>\n",
       "      <th>Longitude</th>\n",
       "      <th>Latitude</th>\n",
       "      <th>Cuisines</th>\n",
       "      <th>...</th>\n",
       "      <th>Currency</th>\n",
       "      <th>Has Table booking</th>\n",
       "      <th>Has Online delivery</th>\n",
       "      <th>Is delivering now</th>\n",
       "      <th>Switch to order menu</th>\n",
       "      <th>Price range</th>\n",
       "      <th>Aggregate rating</th>\n",
       "      <th>Rating color</th>\n",
       "      <th>Rating text</th>\n",
       "      <th>Votes</th>\n",
       "    </tr>\n",
       "  </thead>\n",
       "  <tbody>\n",
       "    <tr>\n",
       "      <th>565</th>\n",
       "      <td>5704255</td>\n",
       "      <td>Famous Dave's Barbecue</td>\n",
       "      <td>214</td>\n",
       "      <td>Abu Dhabi</td>\n",
       "      <td>Near The One, Level 3, Abu Dhabi Mall, Tourist...</td>\n",
       "      <td>Abu Dhabi Mall, Tourist Club Area  (Al Zahiyah)</td>\n",
       "      <td>Abu Dhabi Mall, Tourist Club Area  (Al Zahiyah...</td>\n",
       "      <td>54.382946</td>\n",
       "      <td>24.495693</td>\n",
       "      <td>American</td>\n",
       "      <td>...</td>\n",
       "      <td>Emirati Diram(AED)</td>\n",
       "      <td>No</td>\n",
       "      <td>Yes</td>\n",
       "      <td>No</td>\n",
       "      <td>No</td>\n",
       "      <td>4</td>\n",
       "      <td>4.6</td>\n",
       "      <td>Dark Green</td>\n",
       "      <td>Excellent</td>\n",
       "      <td>376</td>\n",
       "    </tr>\n",
       "    <tr>\n",
       "      <th>566</th>\n",
       "      <td>5701978</td>\n",
       "      <td>Pizza Di Rocco</td>\n",
       "      <td>214</td>\n",
       "      <td>Abu Dhabi</td>\n",
       "      <td>Near Corner of Salam and Al Falah Street (9th ...</td>\n",
       "      <td>Al Dhafrah</td>\n",
       "      <td>Al Dhafrah, Abu Dhabi</td>\n",
       "      <td>54.381931</td>\n",
       "      <td>24.485579</td>\n",
       "      <td>Italian, Pizza</td>\n",
       "      <td>...</td>\n",
       "      <td>Emirati Diram(AED)</td>\n",
       "      <td>Yes</td>\n",
       "      <td>Yes</td>\n",
       "      <td>No</td>\n",
       "      <td>No</td>\n",
       "      <td>3</td>\n",
       "      <td>4.4</td>\n",
       "      <td>Green</td>\n",
       "      <td>Very Good</td>\n",
       "      <td>471</td>\n",
       "    </tr>\n",
       "    <tr>\n",
       "      <th>571</th>\n",
       "      <td>5700052</td>\n",
       "      <td>Cho Gao - Crowne Plaza Abu Dhabi</td>\n",
       "      <td>214</td>\n",
       "      <td>Abu Dhabi</td>\n",
       "      <td>Crowne Plaza Abu Dhabi, Sheikh Hamdan Bin Moha...</td>\n",
       "      <td>Crowne Plaza Abu Dhabi, Al Markaziya</td>\n",
       "      <td>Crowne Plaza Abu Dhabi, Al Markaziya, Abu Dhabi</td>\n",
       "      <td>54.365694</td>\n",
       "      <td>24.491235</td>\n",
       "      <td>Thai, Japanese, Chinese, Indonesian, Vietnamese</td>\n",
       "      <td>...</td>\n",
       "      <td>Emirati Diram(AED)</td>\n",
       "      <td>Yes</td>\n",
       "      <td>Yes</td>\n",
       "      <td>No</td>\n",
       "      <td>No</td>\n",
       "      <td>4</td>\n",
       "      <td>4.4</td>\n",
       "      <td>Green</td>\n",
       "      <td>Very Good</td>\n",
       "      <td>246</td>\n",
       "    </tr>\n",
       "  </tbody>\n",
       "</table>\n",
       "<p>3 rows × 21 columns</p>\n",
       "</div>"
      ],
      "text/plain": [
       "     Restaurant ID                   Restaurant Name  Country Code       City  \\\n",
       "565        5704255            Famous Dave's Barbecue           214  Abu Dhabi   \n",
       "566        5701978                    Pizza Di Rocco           214  Abu Dhabi   \n",
       "571        5700052  Cho Gao - Crowne Plaza Abu Dhabi           214  Abu Dhabi   \n",
       "\n",
       "                                               Address  \\\n",
       "565  Near The One, Level 3, Abu Dhabi Mall, Tourist...   \n",
       "566  Near Corner of Salam and Al Falah Street (9th ...   \n",
       "571  Crowne Plaza Abu Dhabi, Sheikh Hamdan Bin Moha...   \n",
       "\n",
       "                                            Locality  \\\n",
       "565  Abu Dhabi Mall, Tourist Club Area  (Al Zahiyah)   \n",
       "566                                       Al Dhafrah   \n",
       "571             Crowne Plaza Abu Dhabi, Al Markaziya   \n",
       "\n",
       "                                      Locality Verbose  Longitude   Latitude  \\\n",
       "565  Abu Dhabi Mall, Tourist Club Area  (Al Zahiyah...  54.382946  24.495693   \n",
       "566                              Al Dhafrah, Abu Dhabi  54.381931  24.485579   \n",
       "571    Crowne Plaza Abu Dhabi, Al Markaziya, Abu Dhabi  54.365694  24.491235   \n",
       "\n",
       "                                            Cuisines  ...            Currency  \\\n",
       "565                                         American  ...  Emirati Diram(AED)   \n",
       "566                                   Italian, Pizza  ...  Emirati Diram(AED)   \n",
       "571  Thai, Japanese, Chinese, Indonesian, Vietnamese  ...  Emirati Diram(AED)   \n",
       "\n",
       "    Has Table booking Has Online delivery Is delivering now  \\\n",
       "565                No                 Yes                No   \n",
       "566               Yes                 Yes                No   \n",
       "571               Yes                 Yes                No   \n",
       "\n",
       "    Switch to order menu Price range  Aggregate rating  Rating color  \\\n",
       "565                   No           4               4.6    Dark Green   \n",
       "566                   No           3               4.4         Green   \n",
       "571                   No           4               4.4         Green   \n",
       "\n",
       "    Rating text Votes  \n",
       "565   Excellent   376  \n",
       "566   Very Good   471  \n",
       "571   Very Good   246  \n",
       "\n",
       "[3 rows x 21 columns]"
      ]
     },
     "execution_count": 23,
     "metadata": {},
     "output_type": "execute_result"
    }
   ],
   "source": [
    "data[data['Has Online delivery']=='Yes'].head(3)"
   ]
  },
  {
   "cell_type": "code",
   "execution_count": 24,
   "id": "c3221d5b-1a99-4b00-a9bf-551b069ba0aa",
   "metadata": {},
   "outputs": [
    {
     "data": {
      "text/plain": [
       "Has Online delivery\n",
       "No     74.34\n",
       "Yes    25.66\n",
       "Name: count, dtype: float64"
      ]
     },
     "execution_count": 24,
     "metadata": {},
     "output_type": "execute_result"
    }
   ],
   "source": [
    "online_delivery=(data['Has Online delivery'].value_counts()/len(data))*100\n",
    "round(online_delivery,2)"
   ]
  },
  {
   "cell_type": "code",
   "execution_count": 25,
   "id": "18020dd8-f3d2-41a1-be33-1cb7e5d2b279",
   "metadata": {},
   "outputs": [
    {
     "name": "stdout",
     "output_type": "stream",
     "text": [
      "The percentage of restaurants that offer online delivery is 25.66\n"
     ]
    }
   ],
   "source": [
    "print(\"The percentage of restaurants that offer online delivery is\",round(online_delivery['Yes'],2))"
   ]
  },
  {
   "cell_type": "code",
   "execution_count": 26,
   "id": "0e2f78e2-fb1b-4b34-96d0-4f388ae9649c",
   "metadata": {},
   "outputs": [],
   "source": [
    "#Compare the average ratings of restaurants with and without online delivery."
   ]
  },
  {
   "cell_type": "code",
   "execution_count": 27,
   "id": "837ca55e-8427-4c37-ab87-de1c38922a87",
   "metadata": {},
   "outputs": [],
   "source": [
    "online_del=data.groupby('Has Online delivery')['Aggregate rating'].mean()"
   ]
  },
  {
   "cell_type": "code",
   "execution_count": 28,
   "id": "f2013f18-aa7a-40c1-b4f3-600c5d3c7209",
   "metadata": {},
   "outputs": [],
   "source": [
    "yes_data=data[data['Has Online delivery']=='Yes']['Aggregate rating'].mean()\n",
    "no_data=data[data['Has Online delivery']=='No']['Aggregate rating'].mean()"
   ]
  },
  {
   "cell_type": "code",
   "execution_count": 29,
   "id": "b7fe83f7-3462-4c09-b55a-99435587e90e",
   "metadata": {},
   "outputs": [
    {
     "name": "stdout",
     "output_type": "stream",
     "text": [
      "The average ratings of restaurants with online delivery is 3.25\n",
      "The average ratings of restaurants without online delivery is 2.47\n",
      "\n",
      "Observation:\n",
      "The restaurants with online delivery has more ratings than the restaurants without online delivery\n"
     ]
    }
   ],
   "source": [
    "print(\"The average ratings of restaurants with online delivery is\",round(yes_data,2))\n",
    "print(\"The average ratings of restaurants without online delivery is\",round(no_data,2))\n",
    "print(\"\\nObservation:\")\n",
    "if yes_data>no_data:\n",
    "    print(\"The restaurants with online delivery has more ratings than the restaurants without online delivery\")\n",
    "else:\n",
    "    print(\"The restaurants without online delivery has more ratings than the restaurants with online delivery\")"
   ]
  }
 ],
 "metadata": {
  "kernelspec": {
   "display_name": "Python 3 (ipykernel)",
   "language": "python",
   "name": "python3"
  },
  "language_info": {
   "codemirror_mode": {
    "name": "ipython",
    "version": 3
   },
   "file_extension": ".py",
   "mimetype": "text/x-python",
   "name": "python",
   "nbconvert_exporter": "python",
   "pygments_lexer": "ipython3",
   "version": "3.11.7"
  }
 },
 "nbformat": 4,
 "nbformat_minor": 5
}
